import pandas as pd
import numpy as np
import matplotlib.pyplot as plt
import seaborn as sns
from sklearn.datasets import load_iris
from sklearn.model_selection import train_test_split
from sklearn.tree import DecisionTreeClassifier
from sklearn.metrics import accuracy_score, classification_report, confusion_matrix
from sklearn.tree import plot_tree

# Load Iris dataset
iris = load_iris()
df = pd.DataFrame(iris.data, columns=iris.feature_names)
df['species'] = iris.target  # 0: setosa, 1: versicolor, 2: virginica
print("Dataset loaded. Shape:", df.shape)
df.head()

# Basic info
print(df.describe())
print("\nTarget distribution:\n", df['species'].value_counts())

# Visualizations
plt.figure(figsize=(12, 5))
plt.subplot(1, 2, 1)
sns.pairplot(df, hue='species')  # Pairplot for EDA
plt.subplot(1, 2, 2)
sns.heatmap(df.corr(), annot=True, cmap='coolwarm')  # Correlation heatmap
plt.tight_layout()
plt.show()

# Split: 80% train, 20% test
X = df.drop('species', axis=1)
y = df['species']
X_train, X_test, y_train, y_test = train_test_split(X, y, test_size=0.2, random_state=42, stratify=y)

# Train Decision Tree
clf = DecisionTreeClassifier(random_state=42, max_depth=3)
clf.fit(X_train, y_train)
y_pred = clf.predict(X_test)

print("Model trained.")

# Metrics
accuracy = accuracy_score(y_test, y_pred)
print(f"Accuracy: {accuracy:.2f}")
print("\nClassification Report:\n", classification_report(y_test, y_pred, target_names=iris.target_names))

# Confusion Matrix
cm = confusion_matrix(y_test, y_pred)
sns.heatmap(cm, annot=True, fmt='d', cmap='Blues', xticklabels=iris.target_names, yticklabels=iris.target_names)
plt.title('Confusion Matrix')
plt.xlabel('Predicted')
plt.ylabel('Actual')
plt.savefig('A_screenshots/confusion_matrix.png')  # Save for deliverable
plt.show()

plt.figure(figsize=(12, 8))
plot_tree(clf, feature_names=iris.feature_names, class_names=iris.target_names, filled=True)
plt.title('Decision Tree Visualization')
plt.savefig('A_screenshots/tree_visualization.png')
plt.show()


